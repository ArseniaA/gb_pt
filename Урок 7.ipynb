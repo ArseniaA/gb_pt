{
 "cells": [
  {
   "cell_type": "markdown",
   "id": "c8720ecc",
   "metadata": {},
   "source": [
    "### Урок 7. Многомерный статистический анализ. Линейная регрессия"
   ]
  },
  {
   "cell_type": "code",
   "execution_count": 9,
   "id": "8d828c2a",
   "metadata": {},
   "outputs": [],
   "source": [
    "import numpy as np"
   ]
  },
  {
   "cell_type": "markdown",
   "id": "91bc0f4f",
   "metadata": {},
   "source": [
    "#### 1.Даны значения величины заработной платы заемщиков банка (zp) и значения их поведенческого кредитного скоринга (ks): zp = [35, 45, 190, 200, 40, 70, 54, 150, 120, 110], ks = [401, 574, 874, 919, 459, 739, 653, 902, 746, 832]. Используя математические операции, посчитать коэффициенты линейной регрессии, приняв за X заработную плату (то есть, zp - признак), а за y - значения скорингового балла (то есть, ks - целевая переменная). Произвести расчет как с использованием intercept, так и без."
   ]
  },
  {
   "cell_type": "code",
   "execution_count": 39,
   "id": "dbb45f8d",
   "metadata": {},
   "outputs": [
    {
     "name": "stdout",
     "output_type": "stream",
     "text": [
      "444.1773573243596 2.620538882402765\n"
     ]
    }
   ],
   "source": [
    "zp = np.array([35, 45, 190, 200, 40, 70, 54, 150, 120, 110])\n",
    "ks = np.array([401, 574, 874, 919, 459, 739, 653, 902, 746, 832])\n",
    "\n",
    "b = (np.mean(zp * ks) - np.mean(zp) * np.mean(ks)) / (np.mean(zp**2) - np.mean(zp) ** 2)\n",
    "a = np.mean(ks) - b * np.mean(zp)\n",
    "print(a, b)"
   ]
  },
  {
   "cell_type": "code",
   "execution_count": 40,
   "id": "dd373e39",
   "metadata": {},
   "outputs": [
    {
     "data": {
      "text/plain": [
       "array([[ 35],\n",
       "       [ 45],\n",
       "       [190],\n",
       "       [200],\n",
       "       [ 40],\n",
       "       [ 70],\n",
       "       [ 54],\n",
       "       [150],\n",
       "       [120],\n",
       "       [110]])"
      ]
     },
     "execution_count": 40,
     "metadata": {},
     "output_type": "execute_result"
    }
   ],
   "source": [
    "zp = zp.reshape((10, 1))\n",
    "zp"
   ]
  },
  {
   "cell_type": "code",
   "execution_count": 41,
   "id": "413aa929",
   "metadata": {},
   "outputs": [
    {
     "data": {
      "text/plain": [
       "array([[5.88982042]])"
      ]
     },
     "execution_count": 41,
     "metadata": {},
     "output_type": "execute_result"
    }
   ],
   "source": [
    "ks = ks.reshape((10, 1))\n",
    "ks\n",
    "\n",
    "B = np.dot(np.linalg.inv(np.dot(zp.T, zp)), zp.T@ks)\n",
    "B"
   ]
  },
  {
   "cell_type": "markdown",
   "id": "38637858",
   "metadata": {},
   "source": [
    "#### 2.Посчитать коэффициент линейной регрессии при заработной плате (zp), используя градиентный спуск (без intercept)."
   ]
  },
  {
   "cell_type": "code",
   "execution_count": 68,
   "id": "b8ea8b83",
   "metadata": {},
   "outputs": [
    {
     "name": "stdout",
     "output_type": "stream",
     "text": [
      "iteration: 0, B1 = 2.5646424000000003, mse = 208842.09143317994\n",
      "iteration: 8, B1 = 5.6374906108453855, mse = 57394.01912057382\n",
      "iteration: 16, B1 = 5.870672473084601, mse = 56521.90952174367\n",
      "iteration: 24, B1 = 5.8883673857996, mse = 56516.88750237584\n",
      "iteration: 32, B1 = 5.88971015720122, mse = 56516.85858321411\n",
      "iteration: 40, B1 = 5.889812052874064, mse = 56516.85841668393\n",
      "iteration: 48, B1 = 5.889819785186601, mse = 56516.85841572496\n",
      "iteration: 56, B1 = 5.889820371950058, mse = 56516.85841571945\n",
      "iteration: 64, B1 = 5.889820416476369, mse = 56516.85841571941\n",
      "iteration: 72, B1 = 5.88982041985523, mse = 56516.85841571941\n",
      "iteration: 80, B1 = 5.889820420111635, mse = 56516.8584157194\n",
      "iteration: 88, B1 = 5.88982042013109, mse = 56516.8584157194\n",
      "iteration: 96, B1 = 5.889820420132568, mse = 56516.8584157194\n",
      "iteration: 104, B1 = 5.889820420132679, mse = 56516.85841571941\n",
      "iteration: 112, B1 = 5.889820420132688, mse = 56516.8584157194\n",
      "iteration: 120, B1 = 5.889820420132688, mse = 56516.8584157194\n",
      "iteration: 128, B1 = 5.889820420132688, mse = 56516.8584157194\n",
      "iteration: 136, B1 = 5.889820420132688, mse = 56516.8584157194\n",
      "iteration: 144, B1 = 5.889820420132688, mse = 56516.8584157194\n"
     ]
    }
   ],
   "source": [
    "zp = np.array([35, 45, 190, 200, 40, 70, 54, 150, 120, 110])\n",
    "ks = np.array([401, 574, 874, 919, 459, 739, 653, 902, 746, 832])\n",
    "\n",
    "def mse_(B1, y = ks, x = zp, n = 10):\n",
    "    return np.sum((B1 * zp - ks)** 2)/n\n",
    "\n",
    "B1 = 1.3\n",
    "\n",
    "alpha = 1e-5\n",
    "\n",
    "for i in range (150):\n",
    "    B1 -= alpha * (2/10) * np.sum((B1 * zp - ks)* zp)\n",
    "    if i%8 == 0:\n",
    "        print('iteration: {i}, B1 = {B1}, mse = {mse}'.format(i = i, B1 = B1, mse = mse_(B1)))"
   ]
  },
  {
   "cell_type": "markdown",
   "id": "8ec4c79b",
   "metadata": {},
   "source": [
    "#### 3.В каких случаях для вычисления доверительных интервалов и проверки статистических гипотез используется таблица значений функции Лапласа, а в каких - таблица критических точек распределения Стьюдента?"
   ]
  },
  {
   "cell_type": "code",
   "execution_count": null,
   "id": "df1f14db",
   "metadata": {},
   "outputs": [],
   "source": [
    "если известно стандартное отклонение генеральной совокупности, то используется таблица значений функции Лапласа;\n",
    "если стандартное отклонение генеральной совокупности неизвестно, то используется таблица критических точек распределения Стьюдента"
   ]
  },
  {
   "cell_type": "markdown",
   "id": "ed7b4d0b",
   "metadata": {},
   "source": [
    "#### *4. Произвести вычисления как в пункте 2, но с вычислением intercept. Учесть, что изменение коэффициентов должно производиться на каждом шаге одновременно (то есть изменение одного коэффициента не должно влиять на изменение другого во время одной итерации)."
   ]
  },
  {
   "cell_type": "code",
   "execution_count": null,
   "id": "82d98af1",
   "metadata": {},
   "outputs": [],
   "source": []
  }
 ],
 "metadata": {
  "kernelspec": {
   "display_name": "Python 3",
   "language": "python",
   "name": "python3"
  },
  "language_info": {
   "codemirror_mode": {
    "name": "ipython",
    "version": 3
   },
   "file_extension": ".py",
   "mimetype": "text/x-python",
   "name": "python",
   "nbconvert_exporter": "python",
   "pygments_lexer": "ipython3",
   "version": "3.8.8"
  }
 },
 "nbformat": 4,
 "nbformat_minor": 5
}
