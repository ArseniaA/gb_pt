{
 "cells": [
  {
   "cell_type": "markdown",
   "id": "2ee682e1",
   "metadata": {},
   "source": [
    "### Урок 5. Проверка статистических гипотез. P-значения. Доверительные интервалы. A/B-тестирование"
   ]
  },
  {
   "cell_type": "code",
   "execution_count": 32,
   "id": "a4a7e7a6",
   "metadata": {},
   "outputs": [],
   "source": [
    "import scipy.stats\n",
    "import math\n",
    "import numpy as np"
   ]
  },
  {
   "cell_type": "markdown",
   "id": "f1b35879",
   "metadata": {},
   "source": [
    "#### 1. Известно, что генеральная совокупность распределена нормально со средним квадратическим отклонением, равным 16. Найти доверительный интервал для оценки математического ожидания с надежностью 0.95, если выборочная средняя M = 80, а объем выборки n = 256."
   ]
  },
  {
   "cell_type": "code",
   "execution_count": 33,
   "id": "a720ad43",
   "metadata": {},
   "outputs": [
    {
     "name": "stdout",
     "output_type": "stream",
     "text": [
      "78.04003601545995 81.95996398454005\n"
     ]
    }
   ],
   "source": [
    "z05 = scipy.stats.norm(0, 1).ppf(1 - 0.025)\n",
    "h1 = 80 - z05 * 16 / math.sqrt(256)\n",
    "h2 = 80 + z05 * 16 / math.sqrt(256)\n",
    "print(h1, h2)"
   ]
  },
  {
   "cell_type": "markdown",
   "id": "aab6e5f9",
   "metadata": {},
   "source": [
    "#### 2. В результате 10 независимых измерений некоторой величины X, выполненных с одинаковой точностью, получены опытные данные: 6.9, 6.1, 6.2, 6.8, 7.5, 6.3, 6.4, 6.9, 6.7, 6.1. Предполагая, что результаты измерений подчинены нормальному закону распределения вероятностей, оценить истинное значение величины X при помощи доверительного интервала, покрывающего это значение с доверительной вероятностью 0,95."
   ]
  },
  {
   "cell_type": "code",
   "execution_count": 51,
   "id": "4203c747",
   "metadata": {},
   "outputs": [
    {
     "name": "stdout",
     "output_type": "stream",
     "text": [
      "2.2621571627409915\n",
      "6.267515851415713 6.912484148584288\n"
     ]
    }
   ],
   "source": [
    "xv = [6.9, 6.1, 6.2, 6.8, 7.5, 6.3, 6.4, 6.9, 6.7, 6.1]\n",
    "mean = np.sum(xv) / len(xv)\n",
    "stdv = math.sqrt(sum(pow(x - mean, 2) for x in xv) / (len(xv) - 1))\n",
    "t = scipy.stats.t.ppf(1 - 0.025, 9)\n",
    "h1 = mean - t * stdv / math.sqrt(len(xv))\n",
    "h2 = mean + t * stdv / math.sqrt(len(xv))\n",
    "print(h1, h2)"
   ]
  },
  {
   "cell_type": "markdown",
   "id": "1e432b6e",
   "metadata": {},
   "source": [
    "#### 3. Утверждается, что шарики для подшипников, изготовленные автоматическим станком, имеют средний диаметр 17 мм. Используя односторонний критерий с α=0,05, проверить эту гипотезу, если в выборке из n=100 шариков средний диаметр оказался равным 17.5 мм, а дисперсия известна и равна 4 кв. мм."
   ]
  },
  {
   "cell_type": "code",
   "execution_count": 48,
   "id": "d0df1aea",
   "metadata": {},
   "outputs": [
    {
     "name": "stdout",
     "output_type": "stream",
     "text": [
      "гипотеза H0 верна\n"
     ]
    }
   ],
   "source": [
    "zn = (17.5 - 17) / math.sqrt(100 * 4)\n",
    "zt = scipy.stats.norm(0, 1).ppf(0.95)\n",
    "if zt > zn:\n",
    "    print('гипотеза H0 верна')\n",
    "else: \n",
    "    print('принимаем гипотезу H1')"
   ]
  },
  {
   "cell_type": "markdown",
   "id": "4c36d43e",
   "metadata": {},
   "source": [
    "#### 4. Продавец утверждает, что средний вес пачки печенья составляет 200 г. Из партии извлечена выборка из 10 пачек. Вес каждой пачки составляет: 202, 203, 199, 197, 195, 201, 200, 204, 194, 190. Известно, что их веса распределены нормально. Верно ли утверждение продавца, если учитывать, что доверительная вероятность равна 99%?"
   ]
  },
  {
   "cell_type": "code",
   "execution_count": 57,
   "id": "a55550c7",
   "metadata": {},
   "outputs": [
    {
     "name": "stdout",
     "output_type": "stream",
     "text": [
      "3.2498355440153697\n",
      "гипотеза H0 верна\n"
     ]
    }
   ],
   "source": [
    "ws = [202, 203, 199, 197, 195, 201, 200, 204, 194, 190]\n",
    "mean = mean = np.sum(ws) / len(ws)\n",
    "stdv = math.sqrt(sum(pow(w - mean, 2) for w in ws) / (len(ws) - 1))\n",
    "t = scipy.stats.t.ppf(1 - 0.005, 9)\n",
    "zn = (200 - mean) / (stdv * math.sqrt(10))\n",
    "print(t)\n",
    "if t > zn:\n",
    "    print('гипотеза H0 верна')\n",
    "else: \n",
    "    print('принимаем гипотезу H1')"
   ]
  }
 ],
 "metadata": {
  "kernelspec": {
   "display_name": "Python 3",
   "language": "python",
   "name": "python3"
  },
  "language_info": {
   "codemirror_mode": {
    "name": "ipython",
    "version": 3
   },
   "file_extension": ".py",
   "mimetype": "text/x-python",
   "name": "python",
   "nbconvert_exporter": "python",
   "pygments_lexer": "ipython3",
   "version": "3.8.8"
  }
 },
 "nbformat": 4,
 "nbformat_minor": 5
}
