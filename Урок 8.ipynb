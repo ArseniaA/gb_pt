{
 "cells": [
  {
   "cell_type": "markdown",
   "id": "0a000b92",
   "metadata": {},
   "source": [
    "### Урок 8. Дисперсионный анализ. Логистическая регрессия"
   ]
  },
  {
   "cell_type": "markdown",
   "id": "7d162946",
   "metadata": {},
   "source": [
    "#### Провести дисперсионный анализ для определения того, есть ли различия среднего роста среди взрослых футболистов, хоккеистов и штангистов. Даны значения роста в трех группах случайно выбранных спортсменов: Футболисты: 173, 175, 180, 178, 177, 185, 183, 182. Хоккеисты: 177, 179, 180, 188, 177, 172, 171, 184, 180. Штангисты: 172, 173, 169, 177, 166, 180, 178, 177, 172, 166, 170."
   ]
  },
  {
   "cell_type": "code",
   "execution_count": 2,
   "id": "315746c3",
   "metadata": {},
   "outputs": [],
   "source": [
    "import numpy as np"
   ]
  },
  {
   "cell_type": "code",
   "execution_count": 3,
   "id": "f6a0743b",
   "metadata": {},
   "outputs": [
    {
     "name": "stdout",
     "output_type": "stream",
     "text": [
      "179.125\n"
     ]
    }
   ],
   "source": [
    "footballers = np.array([173, 175, 180, 178, 177, 185, 183, 182])\n",
    "f_mean = np.mean(footballers)\n",
    "print(f_mean)"
   ]
  },
  {
   "cell_type": "code",
   "execution_count": 4,
   "id": "d6c294be",
   "metadata": {},
   "outputs": [
    {
     "name": "stdout",
     "output_type": "stream",
     "text": [
      "178.66666666666666\n"
     ]
    }
   ],
   "source": [
    "hockeists = np.array([177, 179, 180, 188, 177, 172, 171, 184, 180])\n",
    "h_mean = np.mean(hockeists)\n",
    "print(h_mean)"
   ]
  },
  {
   "cell_type": "code",
   "execution_count": 5,
   "id": "946d40da",
   "metadata": {},
   "outputs": [
    {
     "name": "stdout",
     "output_type": "stream",
     "text": [
      "172.72727272727272\n"
     ]
    }
   ],
   "source": [
    "weightlifters = np.array([172, 173, 169, 177, 166, 180, 178, 177, 172, 166, 170])\n",
    "w_mean = np.mean(weightlifters)\n",
    "print(w_mean)"
   ]
  },
  {
   "cell_type": "code",
   "execution_count": 12,
   "id": "35942dbd",
   "metadata": {},
   "outputs": [
    {
     "name": "stdout",
     "output_type": "stream",
     "text": [
      "176.46428571428572 28\n"
     ]
    }
   ],
   "source": [
    "all_s = np.concatenate([footballers, hockeists, weightlifters])\n",
    "a_mean = np.mean(all_s)\n",
    "print(a_mean, len(all_s))"
   ]
  },
  {
   "cell_type": "code",
   "execution_count": 7,
   "id": "6b50855d",
   "metadata": {},
   "outputs": [
    {
     "name": "stdout",
     "output_type": "stream",
     "text": [
      "830.9642857142854\n",
      "830.9642857142859\n"
     ]
    }
   ],
   "source": [
    "s2 = np.sum((all_s - a_mean)**2)\n",
    "s2_f = ((f_mean - a_mean)**2) * len(footballers) + ((h_mean - a_mean)**2) * len(hockeists) + ((w_mean - a_mean)**2) * len(weightlifters)\n",
    "s2_residual = sum(pow(f - f_mean, 2) for f in footballers) + sum(pow(h - h_mean, 2) for h in hockeists) + sum(pow(w - w_mean, 2) for w in weightlifters)\n",
    "print(s2)\n",
    "print(s2_f + s2_residual)"
   ]
  },
  {
   "cell_type": "code",
   "execution_count": 9,
   "id": "7ece572e",
   "metadata": {},
   "outputs": [],
   "source": [
    "sigma2_general = s2 / (len(all_s) - 1)\n",
    "sigma2_f = s2_f / (3 - 1)\n",
    "sigma2_residual = s2_residual / (len(all_s) - 3)"
   ]
  },
  {
   "cell_type": "code",
   "execution_count": 10,
   "id": "a0fe0b03",
   "metadata": {},
   "outputs": [
    {
     "data": {
      "text/plain": [
       "5.500053450812599"
      ]
     },
     "execution_count": 10,
     "metadata": {},
     "output_type": "execute_result"
    }
   ],
   "source": [
    "F_h = sigma2_f / sigma2_residual\n",
    "F_h\n",
    "F_k = 3.39"
   ]
  },
  {
   "cell_type": "code",
   "execution_count": 11,
   "id": "d8a2aaa9",
   "metadata": {},
   "outputs": [
    {
     "data": {
      "text/plain": [
       "0.30555761769498"
      ]
     },
     "execution_count": 11,
     "metadata": {},
     "output_type": "execute_result"
    }
   ],
   "source": [
    "eta2 = s2_f / s2\n",
    "eta2"
   ]
  }
 ],
 "metadata": {
  "kernelspec": {
   "display_name": "Python 3",
   "language": "python",
   "name": "python3"
  },
  "language_info": {
   "codemirror_mode": {
    "name": "ipython",
    "version": 3
   },
   "file_extension": ".py",
   "mimetype": "text/x-python",
   "name": "python",
   "nbconvert_exporter": "python",
   "pygments_lexer": "ipython3",
   "version": "3.8.8"
  }
 },
 "nbformat": 4,
 "nbformat_minor": 5
}
