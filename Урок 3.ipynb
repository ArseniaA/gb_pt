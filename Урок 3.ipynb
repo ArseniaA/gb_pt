{
 "cells": [
  {
   "cell_type": "markdown",
   "id": "d7be8010",
   "metadata": {},
   "source": [
    "### Урок 3. Описательная статистика. Качественные и количественные характеристики популяции. Графическое представление данных."
   ]
  },
  {
   "cell_type": "code",
   "execution_count": 26,
   "id": "af1124ce",
   "metadata": {},
   "outputs": [],
   "source": [
    "import numpy as np\n",
    "import math\n",
    "from math import factorial"
   ]
  },
  {
   "cell_type": "markdown",
   "id": "ac243dbf",
   "metadata": {},
   "source": [
    "#### 1. Даны значения зарплат из выборки выпускников: 100, 80, 75, 77, 89, 33, 45, 25, 65, 17, 30, 24, 57, 55, 70, 75, 65, 84, 90, 150. Посчитать (желательно без использования статистических методов наподобие std, var, mean) среднее арифметическое, среднее квадратичное отклонение, смещенную и несмещенную оценки дисперсий для данной выборки."
   ]
  },
  {
   "cell_type": "code",
   "execution_count": 27,
   "id": "e01a03bb",
   "metadata": {},
   "outputs": [
    {
     "name": "stdout",
     "output_type": "stream",
     "text": [
      "65.3\n",
      "30.823854398825596\n",
      "950.11\n",
      "1000.1157894736842\n"
     ]
    }
   ],
   "source": [
    "salary = [100, 80, 75, 77, 89, 33, 45, 25, 65, 17, 30, 24, 57, 55, 70, 75, 65, 84, 90, 150]\n",
    "average = sum(salary) / len(salary)\n",
    "std = math.sqrt(sum(pow(s - average, 2) for s in salary) / len(salary))\n",
    "bve = sum(pow(s - average, 2) for s in salary) / len(salary)\n",
    "ubve = sum(pow(s - average, 2) for s in salary) / (len(salary) - 1)\n",
    "print(average)\n",
    "print(std)\n",
    "print(bve)\n",
    "print(ubve)"
   ]
  },
  {
   "cell_type": "markdown",
   "id": "ef438520",
   "metadata": {},
   "source": [
    "#### 2. В первом ящике находится 8 мячей, из которых 5 - белые. Во втором ящике - 12 мячей, из которых 5 белых. Из первого ящика вытаскивают случайным образом два мяча, из второго - 4. Какова вероятность того, что 3 мяча белые?"
   ]
  },
  {
   "cell_type": "code",
   "execution_count": 42,
   "id": "7c068c58",
   "metadata": {},
   "outputs": [
    {
     "name": "stdout",
     "output_type": "stream",
     "text": [
      "0.3686868686868687\n"
     ]
    }
   ],
   "source": [
    "def combinations(n, k):\n",
    "    return int(factorial(n) / (factorial(k) * factorial(n - k)))\n",
    "\n",
    "p1 = (combinations(3, 2) / combinations(8, 2)) * (combinations(5, 3) * combinations(7, 1) / combinations(12, 4))\n",
    "p2 = (15 / combinations(8, 2)) * (combinations(5, 2) * combinations(7, 2) / combinations(12, 4))\n",
    "p3 = (combinations(5, 2) / combinations(8, 2)) * (5 * combinations(7, 3) / combinations(12, 4))\n",
    "print(p1 + p2 + p3)                                                  "
   ]
  },
  {
   "cell_type": "markdown",
   "id": "51421f01",
   "metadata": {},
   "source": [
    "#### 3. На соревновании по биатлону один из трех спортсменов стреляет и попадает в мишень. Вероятность попадания для первого спортсмена равна 0.9, для второго — 0.8, для третьего — 0.6. Найти вероятность того, что выстрел произведен: a). первым спортсменом б). вторым спортсменом в). третьим спортсменом."
   ]
  },
  {
   "cell_type": "code",
   "execution_count": 33,
   "id": "e1ac6bf4",
   "metadata": {},
   "outputs": [
    {
     "data": {
      "text/plain": [
       "0.3913043478260869"
      ]
     },
     "execution_count": 33,
     "metadata": {},
     "output_type": "execute_result"
    }
   ],
   "source": [
    "p1 = 0.9 / (0.9 + 0.8 + 0.6)\n",
    "p1"
   ]
  },
  {
   "cell_type": "code",
   "execution_count": 34,
   "id": "81c174c7",
   "metadata": {},
   "outputs": [
    {
     "data": {
      "text/plain": [
       "0.34782608695652173"
      ]
     },
     "execution_count": 34,
     "metadata": {},
     "output_type": "execute_result"
    }
   ],
   "source": [
    "p2 = 0.8 / (0.9 + 0.8 + 0.6)\n",
    "p2"
   ]
  },
  {
   "cell_type": "code",
   "execution_count": 35,
   "id": "64ecc31f",
   "metadata": {},
   "outputs": [
    {
     "data": {
      "text/plain": [
       "0.26086956521739124"
      ]
     },
     "execution_count": 35,
     "metadata": {},
     "output_type": "execute_result"
    }
   ],
   "source": [
    "p3 = 0.6 / (0.9 + 0.8 + 0.6)\n",
    "p3"
   ]
  },
  {
   "cell_type": "markdown",
   "id": "901b5056",
   "metadata": {},
   "source": [
    "#### 4. В университет на факультеты A и B поступило равное количество студентов, а на факультет C студентов поступило столько же, сколько на A и B вместе. Вероятность того, что студент факультета A сдаст первую сессию, равна 0.8. Для студента факультета B эта вероятность равна 0.7, а для студента факультета C - 0.9. Студент сдал первую сессию. Какова вероятность, что он учится: a). на факультете A б). на факультете B в). на факультете C?"
   ]
  },
  {
   "cell_type": "code",
   "execution_count": 30,
   "id": "222e8562",
   "metadata": {},
   "outputs": [
    {
     "data": {
      "text/plain": [
       "0.24242424242424246"
      ]
     },
     "execution_count": 30,
     "metadata": {},
     "output_type": "execute_result"
    }
   ],
   "source": [
    "Pa = 0.25 * 0.8 / (0.25 * 0.8 + 0.25 * 0.7 + 0.5 * 0.9)\n",
    "Pa"
   ]
  },
  {
   "cell_type": "code",
   "execution_count": 32,
   "id": "41e7a170",
   "metadata": {},
   "outputs": [
    {
     "data": {
      "text/plain": [
       "0.21212121212121213"
      ]
     },
     "execution_count": 32,
     "metadata": {},
     "output_type": "execute_result"
    }
   ],
   "source": [
    "Pb = 0.25 * 0.7 / (0.25 * 0.8 + 0.25 * 0.7 + 0.5 * 0.9)\n",
    "Pb"
   ]
  },
  {
   "cell_type": "code",
   "execution_count": 31,
   "id": "d730d922",
   "metadata": {},
   "outputs": [
    {
     "data": {
      "text/plain": [
       "0.5454545454545455"
      ]
     },
     "execution_count": 31,
     "metadata": {},
     "output_type": "execute_result"
    }
   ],
   "source": [
    "Pc = 0.5 * 0.9 / (0.25 * 0.8 + 0.25 * 0.7 + 0.5 * 0.9)\n",
    "Pc"
   ]
  },
  {
   "cell_type": "markdown",
   "id": "10e297df",
   "metadata": {},
   "source": [
    "#### 5. Устройство состоит из трех деталей. Для первой детали вероятность выйти из строя в первый месяц равна 0.1, для второй - 0.2, для третьей - 0.25. Какова вероятность того, что в первый месяц выйдут из строя: а). все детали б). только две детали в). хотя бы одна деталь г). от одной до двух деталей?"
   ]
  },
  {
   "cell_type": "code",
   "execution_count": 36,
   "id": "0bd41e72",
   "metadata": {},
   "outputs": [
    {
     "data": {
      "text/plain": [
       "0.005000000000000001"
      ]
     },
     "execution_count": 36,
     "metadata": {},
     "output_type": "execute_result"
    }
   ],
   "source": [
    "p1 = 0.1 * 0.2 * 0.25\n",
    "p1"
   ]
  },
  {
   "cell_type": "code",
   "execution_count": 37,
   "id": "0b74c945",
   "metadata": {},
   "outputs": [
    {
     "data": {
      "text/plain": [
       "0.08000000000000002"
      ]
     },
     "execution_count": 37,
     "metadata": {},
     "output_type": "execute_result"
    }
   ],
   "source": [
    "p2 = 0.1 * 0.2 * 0.75 + 0.9 * 0.2 * 0.25 + 0.1 * 0.8 * 0.25\n",
    "p2"
   ]
  },
  {
   "cell_type": "code",
   "execution_count": 38,
   "id": "afc95d8d",
   "metadata": {},
   "outputs": [
    {
     "data": {
      "text/plain": [
       "0.45999999999999996"
      ]
     },
     "execution_count": 38,
     "metadata": {},
     "output_type": "execute_result"
    }
   ],
   "source": [
    "p3 = 1 - 0.9 * 0.8 * 0.75\n",
    "p3"
   ]
  },
  {
   "cell_type": "code",
   "execution_count": 40,
   "id": "9119a04a",
   "metadata": {},
   "outputs": [
    {
     "data": {
      "text/plain": [
       "0.45499999999999996"
      ]
     },
     "execution_count": 40,
     "metadata": {},
     "output_type": "execute_result"
    }
   ],
   "source": [
    "p4 = p3 - p1\n",
    "p4"
   ]
  }
 ],
 "metadata": {
  "kernelspec": {
   "display_name": "Python 3",
   "language": "python",
   "name": "python3"
  },
  "language_info": {
   "codemirror_mode": {
    "name": "ipython",
    "version": 3
   },
   "file_extension": ".py",
   "mimetype": "text/x-python",
   "name": "python",
   "nbconvert_exporter": "python",
   "pygments_lexer": "ipython3",
   "version": "3.8.8"
  }
 },
 "nbformat": 4,
 "nbformat_minor": 5
}
